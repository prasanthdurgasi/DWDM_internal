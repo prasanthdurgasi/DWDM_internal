{
 "cells": [
  {
   "cell_type": "code",
   "execution_count": 8,
   "id": "02a3fdaa-fa86-4326-91c5-7c322164a111",
   "metadata": {},
   "outputs": [
    {
     "name": "stdout",
     "output_type": "stream",
     "text": [
      "    Age  Age_bin_width\n",
      "0  22.0            1.0\n",
      "1  38.0            2.0\n",
      "2  26.0            1.0\n",
      "3  35.0            2.0\n",
      "4  35.0            2.0\n",
      "5   NaN            NaN\n",
      "6  54.0            3.0\n",
      "7   2.0            0.0\n",
      "8  27.0            1.0\n",
      "9  14.0            0.0\n"
     ]
    }
   ],
   "source": [
    "#Equal Width Bins\n",
    "import pandas as pd\n",
    "data = pd.read_csv(\"titanic_train.csv\")\n",
    "data[\"Age_bin_width\"] = pd.cut(data['Age'],bins = 5,labels = False)\n",
    "print(data[['Age','Age_bin_width']].head(10))"
   ]
  },
  {
   "cell_type": "code",
   "execution_count": 12,
   "id": "e70c9fc4-7ca5-442e-aab5-0180e3932db0",
   "metadata": {},
   "outputs": [
    {
     "name": "stdout",
     "output_type": "stream",
     "text": [
      "    Age  Age_bin_quartile\n",
      "0  22.0               1.0\n",
      "1  38.0               3.0\n",
      "2  26.0               2.0\n",
      "3  35.0               3.0\n",
      "4  35.0               3.0\n",
      "5   NaN               NaN\n",
      "6  54.0               4.0\n",
      "7   2.0               0.0\n",
      "8  27.0               2.0\n",
      "9  14.0               0.0\n"
     ]
    }
   ],
   "source": [
    "#Equal Frequency Bins (quartile binning)\n",
    "data['Age_bin_quartile'] = pd.qcut(data['Age'],q = 5, labels = False)\n",
    "print(data[['Age','Age_bin_quartile']].head(10))"
   ]
  },
  {
   "cell_type": "code",
   "execution_count": 16,
   "id": "51b1e337-f5be-4c7b-a9d0-d7f77e6c3545",
   "metadata": {},
   "outputs": [
    {
     "name": "stdout",
     "output_type": "stream",
     "text": [
      "    Age    Age_group\n",
      "0  22.0  Young Adult\n",
      "1  38.0        Adult\n",
      "2  26.0  Young Adult\n",
      "3  35.0  Young Adult\n",
      "4  35.0  Young Adult\n"
     ]
    }
   ],
   "source": [
    "#custom Binning\n",
    "bins = [0,12,13,35,60,100]\n",
    "labels = ['Child','Teen','Young Adult','Adult','Seniors']\n",
    "data['Age_group'] = pd.cut(data['Age'],bins = bins,labels = labels)\n",
    "print(data[['Age','Age_group']].head(5))"
   ]
  },
  {
   "cell_type": "code",
   "execution_count": 20,
   "id": "cdbc523d-8046-45a7-874c-6d852df14fbd",
   "metadata": {},
   "outputs": [
    {
     "name": "stdout",
     "output_type": "stream",
     "text": [
      "\n",
      " cleaned dataset shape: (577, 15)\n",
      "              Age        Fare       SibSp  Parch\n",
      "count  577.000000  577.000000  577.000000  577.0\n",
      "mean    29.303293   14.926356    0.199307    0.0\n",
      "std      8.551663   12.606521    0.445034    0.0\n",
      "min      5.000000    0.000000    0.000000    0.0\n",
      "25%     24.000000    7.775000    0.000000    0.0\n",
      "50%     28.000000    8.662500    0.000000    0.0\n",
      "75%     32.500000   15.850000    0.000000    0.0\n",
      "max     54.000000   61.175000    2.000000    0.0\n"
     ]
    }
   ],
   "source": [
    "#Eliminating Outliers\n",
    "num_cols = ['Age','Fare','SibSp','Parch']\n",
    "data[num_cols] = data[num_cols].fillna(data[num_cols].median())\n",
    "def get_IQR_bound(data,column):\n",
    "    Q1 = data[column].quantile(0.25)\n",
    "    Q3 = data[column].quantile(0.75)\n",
    "    IQR = Q3 - Q1\n",
    "    lower_bound = Q1-1.5*IQR\n",
    "    upper_bound = Q3+1.5*IQR\n",
    "    return lower_bound,upper_bound\n",
    "\n",
    "for col in num_cols:\n",
    "    lower,upper = get_IQR_bound(data,col)\n",
    "    data = data[(data[col]>=lower) & (data[col]<=upper)]\n",
    "\n",
    "print(f\"\\n cleaned dataset shape: {data.shape}\")\n",
    "print(data[num_cols].describe())\n"
   ]
  },
  {
   "cell_type": "code",
   "execution_count": null,
   "id": "4a1c73f4-e8d9-4902-8c2d-dd773a137172",
   "metadata": {},
   "outputs": [],
   "source": []
  }
 ],
 "metadata": {
  "kernelspec": {
   "display_name": "Python [conda env:base] *",
   "language": "python",
   "name": "conda-base-py"
  },
  "language_info": {
   "codemirror_mode": {
    "name": "ipython",
    "version": 3
   },
   "file_extension": ".py",
   "mimetype": "text/x-python",
   "name": "python",
   "nbconvert_exporter": "python",
   "pygments_lexer": "ipython3",
   "version": "3.13.5"
  }
 },
 "nbformat": 4,
 "nbformat_minor": 5
}
