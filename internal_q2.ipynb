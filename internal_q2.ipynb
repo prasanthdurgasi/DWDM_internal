{
 "cells": [
  {
   "cell_type": "code",
   "execution_count": 1,
   "id": "c6d604ab-3cc1-41f2-b9c8-b8f36a80a6ab",
   "metadata": {},
   "outputs": [
    {
     "name": "stdout",
     "output_type": "stream",
     "text": [
      "Index(['PassengerId', 'Survived', 'Pclass', 'Name', 'Sex', 'Age', 'SibSp',\n",
      "       'Parch', 'Ticket', 'Fare', 'Cabin', 'Embarked'],\n",
      "      dtype='object')\n"
     ]
    }
   ],
   "source": [
    "import pandas as pd\n",
    "data = pd.read_csv(\"titanic_train.csv\")\n",
    "print(data.columns)"
   ]
  },
  {
   "cell_type": "code",
   "execution_count": 3,
   "id": "85d5b34e-4295-45db-997f-e878b8e7826f",
   "metadata": {},
   "outputs": [
    {
     "name": "stdout",
     "output_type": "stream",
     "text": [
      "     PassengerId  Survived                                               Name  \\\n",
      "0              1         0                            Braund, Mr. Owen Harris   \n",
      "1              2         1  Cumings, Mrs. John Bradley (Florence Briggs Th...   \n",
      "2              3         1                             Heikkinen, Miss. Laina   \n",
      "3              4         1       Futrelle, Mrs. Jacques Heath (Lily May Peel)   \n",
      "4              5         0                           Allen, Mr. William Henry   \n",
      "..           ...       ...                                                ...   \n",
      "886          887         0                              Montvila, Rev. Juozas   \n",
      "887          888         1                       Graham, Miss. Margaret Edith   \n",
      "888          889         0           Johnston, Miss. Catherine Helen \"Carrie\"   \n",
      "889          890         1                              Behr, Mr. Karl Howell   \n",
      "890          891         0                                Dooley, Mr. Patrick   \n",
      "\n",
      "        Sex   Age            Ticket  \n",
      "0      male  22.0         A/5 21171  \n",
      "1    female  38.0          PC 17599  \n",
      "2    female  26.0  STON/O2. 3101282  \n",
      "3    female  35.0            113803  \n",
      "4      male  35.0            373450  \n",
      "..      ...   ...               ...  \n",
      "886    male  27.0            211536  \n",
      "887  female  19.0            112053  \n",
      "888  female   NaN        W./C. 6607  \n",
      "889    male  26.0            111369  \n",
      "890    male  32.0            370376  \n",
      "\n",
      "[891 rows x 6 columns]\n"
     ]
    },
    {
     "data": {
      "text/html": [
       "<div>\n",
       "<style scoped>\n",
       "    .dataframe tbody tr th:only-of-type {\n",
       "        vertical-align: middle;\n",
       "    }\n",
       "\n",
       "    .dataframe tbody tr th {\n",
       "        vertical-align: top;\n",
       "    }\n",
       "\n",
       "    .dataframe thead th {\n",
       "        text-align: right;\n",
       "    }\n",
       "</style>\n",
       "<table border=\"1\" class=\"dataframe\">\n",
       "  <thead>\n",
       "    <tr style=\"text-align: right;\">\n",
       "      <th></th>\n",
       "      <th>PassengerId</th>\n",
       "      <th>Survived</th>\n",
       "      <th>Name</th>\n",
       "      <th>Sex</th>\n",
       "      <th>Age</th>\n",
       "      <th>Ticket</th>\n",
       "    </tr>\n",
       "  </thead>\n",
       "  <tbody>\n",
       "    <tr>\n",
       "      <th>0</th>\n",
       "      <td>1</td>\n",
       "      <td>0</td>\n",
       "      <td>Braund, Mr. Owen Harris</td>\n",
       "      <td>male</td>\n",
       "      <td>22.0</td>\n",
       "      <td>A/5 21171</td>\n",
       "    </tr>\n",
       "    <tr>\n",
       "      <th>1</th>\n",
       "      <td>2</td>\n",
       "      <td>1</td>\n",
       "      <td>Cumings, Mrs. John Bradley (Florence Briggs Th...</td>\n",
       "      <td>female</td>\n",
       "      <td>38.0</td>\n",
       "      <td>PC 17599</td>\n",
       "    </tr>\n",
       "    <tr>\n",
       "      <th>2</th>\n",
       "      <td>3</td>\n",
       "      <td>1</td>\n",
       "      <td>Heikkinen, Miss. Laina</td>\n",
       "      <td>female</td>\n",
       "      <td>26.0</td>\n",
       "      <td>STON/O2. 3101282</td>\n",
       "    </tr>\n",
       "    <tr>\n",
       "      <th>3</th>\n",
       "      <td>4</td>\n",
       "      <td>1</td>\n",
       "      <td>Futrelle, Mrs. Jacques Heath (Lily May Peel)</td>\n",
       "      <td>female</td>\n",
       "      <td>35.0</td>\n",
       "      <td>113803</td>\n",
       "    </tr>\n",
       "    <tr>\n",
       "      <th>4</th>\n",
       "      <td>5</td>\n",
       "      <td>0</td>\n",
       "      <td>Allen, Mr. William Henry</td>\n",
       "      <td>male</td>\n",
       "      <td>35.0</td>\n",
       "      <td>373450</td>\n",
       "    </tr>\n",
       "  </tbody>\n",
       "</table>\n",
       "</div>"
      ],
      "text/plain": [
       "   PassengerId  Survived                                               Name  \\\n",
       "0            1         0                            Braund, Mr. Owen Harris   \n",
       "1            2         1  Cumings, Mrs. John Bradley (Florence Briggs Th...   \n",
       "2            3         1                             Heikkinen, Miss. Laina   \n",
       "3            4         1       Futrelle, Mrs. Jacques Heath (Lily May Peel)   \n",
       "4            5         0                           Allen, Mr. William Henry   \n",
       "\n",
       "      Sex   Age            Ticket  \n",
       "0    male  22.0         A/5 21171  \n",
       "1  female  38.0          PC 17599  \n",
       "2  female  26.0  STON/O2. 3101282  \n",
       "3  female  35.0            113803  \n",
       "4    male  35.0            373450  "
      ]
     },
     "execution_count": 3,
     "metadata": {},
     "output_type": "execute_result"
    }
   ],
   "source": [
    "selected_data = data[['PassengerId', 'Survived','Name', 'Sex', 'Age','Ticket']]\n",
    "print(selected_data)\n",
    "selected_data.head()"
   ]
  },
  {
   "cell_type": "code",
   "execution_count": 10,
   "id": "fd1280b5-4f8b-4aff-904f-39c763a48671",
   "metadata": {},
   "outputs": [
    {
     "name": "stdout",
     "output_type": "stream",
     "text": [
      "Correlation of attributes with survived:\n",
      "\n",
      "Survived       1.000000\n",
      "Fare           0.257307\n",
      "Parch          0.081629\n",
      "PassengerId   -0.005007\n",
      "SibSp         -0.035322\n",
      "Age           -0.077221\n",
      "Pclass        -0.338481\n",
      "Name: Survived, dtype: float64\n",
      "\n",
      " selected strong features based on correlation (>=0.1):\n",
      "['Survived', 'Fare', 'Pclass']\n"
     ]
    }
   ],
   "source": [
    "##feature selection correlation coefficient technique\n",
    "import pandas as pd \n",
    "df = pd.read_csv(\"titanic_train.csv\")\n",
    "numeric_df=df.select_dtypes(include=[\"number\"])\n",
    "correlation_matrix = numeric_df.corr()\n",
    "target_corr = correlation_matrix['Survived'].sort_values(ascending = False)\n",
    "print(\"Correlation of attributes with survived:\\n\")\n",
    "print(target_corr)\n",
    "strong_features = target_corr[abs(target_corr)>=0.1].index.tolist()\n",
    "print(\"\\n selected strong features based on correlation (>=0.1):\")\n",
    "print(strong_features)"
   ]
  },
  {
   "cell_type": "code",
   "execution_count": 11,
   "id": "5b0f5e07-40ce-44e0-b9f2-6cb05936e590",
   "metadata": {},
   "outputs": [
    {
     "name": "stdout",
     "output_type": "stream",
     "text": [
      "(891, 12)\n",
      "PassengerId      0\n",
      "Survived         0\n",
      "Pclass           0\n",
      "Name             0\n",
      "Sex              0\n",
      "Age            177\n",
      "SibSp            0\n",
      "Parch            0\n",
      "Ticket           0\n",
      "Fare             0\n",
      "Cabin          687\n",
      "Embarked         2\n",
      "dtype: int64\n",
      "(183, 12)\n"
     ]
    }
   ],
   "source": [
    "#handling missing values\n",
    "import pandas as pd\n",
    "df = pd.read_csv(\"titanic_train.csv\")\n",
    "print(df.shape)\n",
    "print(df.isnull().sum())\n",
    "df_clean = df.dropna()\n",
    "print(df_clean.shape)"
   ]
  },
  {
   "cell_type": "code",
   "execution_count": 16,
   "id": "64a47ffc-2038-40bc-8e1e-c49001624916",
   "metadata": {},
   "outputs": [
    {
     "name": "stdout",
     "output_type": "stream",
     "text": [
      "PassengerId      0\n",
      "Survived         0\n",
      "Pclass           0\n",
      "Name             0\n",
      "Sex              0\n",
      "Age            177\n",
      "SibSp            0\n",
      "Parch            0\n",
      "Ticket           0\n",
      "Fare             0\n",
      "Cabin          687\n",
      "Embarked         2\n",
      "dtype: int64\n",
      "(891, 12)\n",
      "float64\n",
      "PassengerId    0\n",
      "Survived       0\n",
      "Pclass         0\n",
      "Name           0\n",
      "Sex            0\n",
      "Age            0\n",
      "SibSp          0\n",
      "Parch          0\n",
      "Ticket         0\n",
      "Fare           0\n",
      "Cabin          0\n",
      "Embarked       0\n",
      "dtype: int64\n"
     ]
    }
   ],
   "source": [
    "#fill with mean,median and mode\n",
    "import pandas as pd\n",
    "df = pd.read_csv(\"titanic_train.csv\")\n",
    "print(df.isnull().sum())\n",
    "print(df.shape)\n",
    "print(df.dtypes['Age'])\n",
    "df['Age']=df['Age'].fillna(df['Age'].mean())\n",
    "most_common = df['Embarked'].mode()[0]\n",
    "df['Embarked'] = df['Embarked'].fillna(most_common)\n",
    "df['Cabin']=df['Cabin'].fillna('Unknown')\n",
    "print(df.isnull().sum())"
   ]
  },
  {
   "cell_type": "code",
   "execution_count": null,
   "id": "9bbc5bf8-c449-4627-9e68-1a241bd8e6ce",
   "metadata": {},
   "outputs": [],
   "source": []
  }
 ],
 "metadata": {
  "kernelspec": {
   "display_name": "Python [conda env:base] *",
   "language": "python",
   "name": "conda-base-py"
  },
  "language_info": {
   "codemirror_mode": {
    "name": "ipython",
    "version": 3
   },
   "file_extension": ".py",
   "mimetype": "text/x-python",
   "name": "python",
   "nbconvert_exporter": "python",
   "pygments_lexer": "ipython3",
   "version": "3.13.5"
  }
 },
 "nbformat": 4,
 "nbformat_minor": 5
}
