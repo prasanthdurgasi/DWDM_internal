{
 "cells": [
  {
   "cell_type": "code",
   "execution_count": 5,
   "id": "bb3ce23e-1b03-4885-9894-6f2ca3130df0",
   "metadata": {},
   "outputs": [
    {
     "name": "stdout",
     "output_type": "stream",
     "text": [
      "frequent itemsets: \n",
      "    support          itemsets\n",
      "0      0.6            (Beer)\n",
      "1      0.8           (Bread)\n",
      "2      0.8         (Diapers)\n",
      "3      0.8            (Milk)\n",
      "4      0.6   (Beer, Diapers)\n",
      "5      0.6  (Bread, Diapers)\n",
      "6      0.6     (Bread, Milk)\n",
      "7      0.6   (Milk, Diapers)\n",
      "\n",
      " Association Rules:\n",
      "   antecedents consequents  support  confidence    lift\n",
      "0      (Beer)   (Diapers)      0.6        1.00  1.2500\n",
      "1   (Diapers)      (Beer)      0.6        0.75  1.2500\n",
      "2     (Bread)   (Diapers)      0.6        0.75  0.9375\n",
      "3   (Diapers)     (Bread)      0.6        0.75  0.9375\n",
      "4     (Bread)      (Milk)      0.6        0.75  0.9375\n",
      "5      (Milk)     (Bread)      0.6        0.75  0.9375\n",
      "6      (Milk)   (Diapers)      0.6        0.75  0.9375\n",
      "7   (Diapers)      (Milk)      0.6        0.75  0.9375\n"
     ]
    }
   ],
   "source": [
    "import pandas as pd\n",
    "from mlxtend.frequent_patterns import apriori,association_rules\n",
    "dataset = [\n",
    "    ['Milk','Bread','Butter'],\n",
    "    ['Bread','Diapers','Beer','Eggs'],\n",
    "    ['Milk','Diapers','Beer','Cola'],\n",
    "    ['Bread','Milk','Diapers','Beer'],\n",
    "    ['Bread','Milk','Diapers','Cola']]\n",
    "df = pd.DataFrame(dataset)\n",
    "from mlxtend.preprocessing import TransactionEncoder\n",
    "te = TransactionEncoder()\n",
    "te_ary = te.fit(dataset).transform(dataset)\n",
    "df = pd.DataFrame(te_ary,columns = te.columns_)\n",
    "frequent_itemsets = apriori(df,min_support = 0.6, use_colnames = True)\n",
    "rules = association_rules(frequent_itemsets,metric = 'confidence',min_threshold = 0.7)\n",
    "print(\"frequent itemsets: \\n\", frequent_itemsets)\n",
    "print(\"\\n Association Rules:\\n\",rules\n",
    "      [['antecedents','consequents','support','confidence','lift']])"
   ]
  },
  {
   "cell_type": "code",
   "execution_count": null,
   "id": "43c14a06-870b-4c16-bc80-b5f8e84b1d8d",
   "metadata": {},
   "outputs": [],
   "source": []
  }
 ],
 "metadata": {
  "kernelspec": {
   "display_name": "Python [conda env:base] *",
   "language": "python",
   "name": "conda-base-py"
  },
  "language_info": {
   "codemirror_mode": {
    "name": "ipython",
    "version": 3
   },
   "file_extension": ".py",
   "mimetype": "text/x-python",
   "name": "python",
   "nbconvert_exporter": "python",
   "pygments_lexer": "ipython3",
   "version": "3.13.5"
  }
 },
 "nbformat": 4,
 "nbformat_minor": 5
}
